{
 "cells": [
  {
   "cell_type": "markdown",
   "source": [
    "Before you turn this problem in, make sure everything runs as expected. First, **restart the kernel** (in the menubar, select Kernel$\\rightarrow$Restart Kernel) and then **run all cells** (in the menubar, select Run$\\rightarrow$Run All Cells). Alternatively, you can use the **validate** button in the assignment list panel.\n",
    "\n",
    "Make sure you fill in any place that says `YOUR CODE HERE` or `YOUR ANSWER HERE`. When you insert your Code you can remove the line `raise NotImplementedError()`. Also put your name and collaborators below:"
   ],
   "metadata": {
    "collapsed": false
   }
  },
  {
   "cell_type": "code",
   "execution_count": 17,
   "outputs": [],
   "source": [
    "NAME = \"\"\n",
    "COLLABORATORS = \"\""
   ],
   "metadata": {
    "collapsed": false,
    "ExecuteTime": {
     "end_time": "2024-03-10T14:32:34.788540400Z",
     "start_time": "2024-03-10T14:32:34.732296Z"
    }
   }
  },
  {
   "cell_type": "markdown",
   "source": [
    "<div style=\"background-color:white;\" >\n",
    "<div style=\"clear: both; display: table;\">\n",
    "  <div style=\"float: left; width: 14%; padding: 5px; height:auto\">\n",
    "    <img src=\"img/TUBraunschweig_CO_200vH_300dpi.jpg\" alt=\"TU_Braunschweig\" style=\"width:100%\">\n",
    "  </div>\n",
    "  <div style=\"float: left; width: 28%; padding: 5px; height:auto\">\n",
    "    <img src=\"img/TU_Clausthal_Logo.png\" alt=\"TU_Clausthal\" style=\"width:100%\">\n",
    "  </div>\n",
    "  <div style=\"float: left; width: 25%; padding: 5px; height:auto\">\n",
    "    <img src=\"img/ostfalia.jpg\" alt=\"Ostfalia\" style=\"width:100%\">\n",
    "  </div>\n",
    "  <div style=\"float: left; width: 21%; padding: 5px;\">\n",
    "    <img src=\"img/niedersachsen_rgb_whitebg.png\" alt=\"Niedersachsen\" style=\"width:100%\">\n",
    "  </div>\n",
    "  <div style=\"float: left; width: 9%; padding: 5px;\">\n",
    "    <img src=\"img/internet_BMBF_gefoerdert_2017_en.jpg\" alt=\"bmbf\" style=\"width:100%\">\n",
    "  </div>\n",
    "</div>\n",
    "<div style=\"text-align:center\">\n",
    "<img src=\"img/ki4all.jpg\" alt=\"KI4ALL-Logo\" width=\"200\"/>\n",
    "</div>\n",
    "</div>"
   ],
   "metadata": {
    "collapsed": false
   }
  },
  {
   "cell_type": "markdown",
   "source": [
    "# Microcredit Artificial Data Generator\n",
    "**Author:** Max Mustermann, B.Sc.   \n",
    "**Date:** August 2023   \n",
    "**Version:** 1  \n",
    "**Credits:** 1 ECTS  \n",
    "**License:** [CC BY-SA 4.0](https://creativecommons.org/licenses/by-sa/4.0/)  \n",
    "**developed by:** [TU Braunschweig](https://www.tu-braunschweig.de/), [Ostfalia Hochschule](https://landing.ostfalia.de/) and [TU Clausthal](https://www.tu-clausthal.de/)  \n",
    "**sponsored by** [Bundesministerium für Bildung und Forschung](https://www.bmbf.de/bmbf/de/home/home_node.html)  "
   ],
   "metadata": {
    "collapsed": false
   }
  },
  {
   "cell_type": "markdown",
   "source": [
    "## Target audience\n",
    "Students, professionals and the general public who are interested in obtaining a ... (**TODO**)\n",
    "\n",
    "## Prerequisites\n",
    "The reader should have a foundational understanding of basic mathematical concepts. Additionally, familiarity with the basics of Python is crucial (see microcredit [Python Introduction](https://git.rz.tu-bs.de/ifn-public/ki4all/python-introduction)) and Python libraries like NumPy and Pandas for data analysis, along with an introductory knowledge of machine learning principles (as outlined in the microcredit [Machine Learning Introduction](https://git.rz.tu-bs.de/ifn-public/ki4all/machine-learning-introduction). It is essential to understand the composition and significance of training data, alongside fundamental statistical concepts such as classification, features (which correspond to data columns), samples (which correspond to data rows), labels (which form the vector indicating the category of each sample), as well as statistical distributions, including the normal and log-normal distributions. Knowledge of effect size and clustering techniques is also vital for data analysis and interpretation. We recommend consulting **[THIS LITERATURE]** for comprehensive coverage of these topics.\n",
    "\n",
    "Moreover, an understanding of feature engineering, selection, extraction, and the importance of these processes is crucial for the optimization of machine learning models. Additionally, a basic knowledge of biomarkers, the application areas of artificial data, and proficiency in managing data formats such as CSV will significantly benefit practitioners in the field of machine learning and data science.\n",
    "\n",
    "\n",
    "## Learning goals\n",
    "After reading this document, the reader should be able to:\n",
    "* Understand the purpose of synthetic data (benchmarking of machine learning algorithms).\n",
    "* Understand the structure of synthetic data.\n",
    "* Be able to generate (needed) data oneself.\n",
    "\n",
    "\n",
    "## A note to the reader\n",
    "Explaining at full length some terms and concepts regarding machine learning is beyond\n",
    "the scope of this document. They will, however, in the majority be explained brieﬂy. The\n",
    "reader is, however, referred to further textbooks or other material in case a more detailed\n",
    "understanding is desired.\n"
   ],
   "metadata": {
    "collapsed": false
   }
  },
  {
   "cell_type": "markdown",
   "source": [
    "## 1 Data Generator Basics\n",
    "\n",
    "In this section, we focus on the fundamentals of the data generator. In order to Generate artificial classification data:\n",
    "1.  Generate two classes with normal distributed features.\n",
    "2. Transform one class to log-normal distributed features.\n",
    "3. Shift one class to enlarge effect size. (optional ?)\n",
    "4. Generate random features (optional ?).\n",
    "5. Generate pseudo class features (optional ?).\n",
    "6. Generate pseudo classes (optional ?).\n",
    "7. Generate data frame.\n",
    "8. Drop perfectly separated features. (optional)\n",
    "9. Save data frame as csv."
   ],
   "metadata": {
    "collapsed": false
   }
  },
  {
   "cell_type": "code",
   "execution_count": 18,
   "outputs": [],
   "source": [
    "import artificial_data_generator_tools\n",
    "import warnings\n",
    "from statsmodels.tools.sm_exceptions import IterationLimitWarning\n",
    "\n",
    "# suppress warnings\n",
    "warnings.filterwarnings(\"ignore\", category=IterationLimitWarning)"
   ],
   "metadata": {
    "collapsed": false,
    "ExecuteTime": {
     "end_time": "2024-03-10T14:32:34.855546400Z",
     "start_time": "2024-03-10T14:32:34.748518100Z"
    }
   }
  },
  {
   "cell_type": "markdown",
   "source": [
    "## 1.1 Data generator values\n",
    "\n",
    "The data generator and its resulting outputs can be manipulated through different values. The subsequent section will provide an explanation of these values.\n",
    "\n",
    "**Informative features** are the features that are relevant for the classification. They are the features that are used to distinguish between the classes. The number of informative features is the number of features that are not random features and not pseudo class features.\n",
    "\n",
    "One option for an element of the generated data set is a **pseudo-class**. For example, this could be a patient's height or gender, which are not related to a specific disease.\n",
    "\n",
    "The generated pseudo-class contains the same number of classes with identical distributions as the artificial biomarkers. But after the generation of the individual classes, all samples (rows) are randomly shuffled. Finally, combining the shuffled data with the original, unshuffled class labels, the pseudo-class no longer has a valid association with any class label. Consequently, no element of the pseudo-class should be recognized as relevant by a feature selection algorithm.\n",
    "\n",
    "Random features are features that are not relevant for the classification. They are used to test feature selection algorithms and other methods for high dimensional data with few samples.\n",
    "\n",
    "Default values for high dimensional data with few samples (short fat data):\n",
    "The **number of features** is much larger than the **number of samples**. This is a common problem in bioinformatics and other fields. In this case, the number of features is much larger than the number of samples. This can lead to overfitting and other problems. The artificial data generator can be used to generate data with a large number of features and a small number of samples. This can be used to test feature selection algorithms and other methods for high dimensional data with few samples.\n"
   ],
   "metadata": {
    "collapsed": false
   }
  },
  {
   "cell_type": "markdown",
   "source": [
    "## Task 1.1 Data generator values \n",
    "**TODO** Now it's your turn. Choose the values .... TASK HERE"
   ],
   "metadata": {
    "collapsed": false
   }
  },
  {
   "cell_type": "code",
   "execution_count": 19,
   "metadata": {
    "id": "H8QF6ONY0hnu",
    "ExecuteTime": {
     "end_time": "2024-03-10T14:32:34.866544300Z",
     "start_time": "2024-03-10T14:32:34.795543100Z"
    }
   },
   "outputs": [
    {
     "ename": "NotImplementedError",
     "evalue": "",
     "output_type": "error",
     "traceback": [
      "\u001b[1;31m---------------------------------------------------------------------------\u001b[0m",
      "\u001b[1;31mNotImplementedError\u001b[0m                       Traceback (most recent call last)",
      "Cell \u001b[1;32mIn[19], line 8\u001b[0m\n\u001b[0;32m      1\u001b[0m \u001b[38;5;66;03m# YOUR CODE HERE\u001b[39;00m\n\u001b[0;32m      2\u001b[0m \u001b[38;5;66;03m# EXAMPLE CODE (replace this with your own code):\u001b[39;00m\n\u001b[0;32m      3\u001b[0m \u001b[38;5;66;03m# number_of_samples_per_class = \u001b[39;00m\n\u001b[0;32m      4\u001b[0m \u001b[38;5;66;03m# number_of_informative_features = \u001b[39;00m\n\u001b[0;32m      5\u001b[0m \u001b[38;5;66;03m# number_of_pseudo_class_features = \u001b[39;00m\n\u001b[0;32m      6\u001b[0m \u001b[38;5;66;03m# number_of_random_features = \u001b[39;00m\n\u001b[1;32m----> 8\u001b[0m \u001b[38;5;28;01mraise\u001b[39;00m \u001b[38;5;167;01mNotImplementedError\u001b[39;00m()\n",
      "\u001b[1;31mNotImplementedError\u001b[0m: "
     ]
    }
   ],
   "source": [
    "# YOUR CODE HERE\n",
    "# EXAMPLE CODE (replace this with your own code):\n",
    "# number_of_samples_per_class =\n",
    "# number_of_informative_features =\n",
    "# number_of_pseudo_class_features =\n",
    "# number_of_random_features =\n",
    "\n",
    "raise NotImplementedError()"
   ]
  },
  {
   "cell_type": "markdown",
   "metadata": {
    "collapsed": false
   },
   "source": [
    "## 1.2 Generate class 1\n",
    "Once the desired settings have been adjusted, we can proceed to generate the first entire class. The result and its distribution are displayed in a histogram."
   ]
  },
  {
   "cell_type": "code",
   "execution_count": null,
   "metadata": {
    "collapsed": false,
    "ExecuteTime": {
     "start_time": "2024-03-10T14:32:34.826540600Z"
    }
   },
   "outputs": [],
   "source": [
    "class1_data_array = artificial_data_generator_tools.generate_normal_distributed_informative_features_for_one_class(\n",
    "    number_of_samples=number_of_samples_per_class,\n",
    "    number_of_normal_distributed_relevant_features=number_of_informative_features,\n",
    "    scale=1,\n",
    ")\n",
    "class1_data_array = artificial_data_generator_tools.build_class(class_features_list=[class1_data_array])\n",
    "\n",
    "# show plot\n",
    "artificial_data_generator_tools.plot_distribution_of_class_features_for_single_class(class1_data_array)"
   ]
  },
  {
   "cell_type": "markdown",
   "source": [
    "## Task 1.2 Interpret the data\n",
    "**TODO** Describe the distribution of the features in Class 1. Use the plot you previously created as a reference."
   ],
   "metadata": {
    "collapsed": false
   }
  },
  {
   "cell_type": "markdown",
   "metadata": {
    "collapsed": false
   },
   "source": [
    "## 1.3 Transform class 1 to log-normal distributed features\n",
    "**TODO** Now we will transform the normally distributed features of Class 1 into a log-normal distribution. This can better reflect the distribution of real biological data. Execute the following code and observe the changes in the distribution."
   ]
  },
  {
   "cell_type": "code",
   "execution_count": null,
   "metadata": {
    "collapsed": false,
    "ExecuteTime": {
     "start_time": "2024-03-10T14:32:34.829540600Z"
    }
   },
   "outputs": [],
   "source": [
    "# Transform Class 1 to log-normal distribution\n",
    "log_normal_distributed_class1_data_array = (\n",
    "    artificial_data_generator_tools.transform_normal_distributed_class_features_to_lognormal_distribution(\n",
    "        class_features_data_array=class1_data_array\n",
    "    )\n",
    ")\n",
    "assert log_normal_distributed_class1_data_array.shape[1] == number_of_informative_features\n",
    "\n",
    "# show plot\n",
    "artificial_data_generator_tools.plot_distribution_of_class_features_for_single_class(\n",
    "    log_normal_distributed_class1_data_array,\n",
    ")"
   ]
  },
  {
   "cell_type": "markdown",
   "source": [
    "## Task 1.3 Reflective Task\n",
    "Compare the distributions before and after the transformation. What differences do you observe? How could these differences be relevant in the analysis of real data?\n",
    "\n",
    "`YOUR ANSWER HERE`"
   ],
   "metadata": {
    "collapsed": false
   }
  },
  {
   "cell_type": "markdown",
   "metadata": {
    "collapsed": false
   },
   "source": [
    "## 1.4 Generate class 2\n",
    "The second class is generated with the same values as Class 1."
   ]
  },
  {
   "cell_type": "code",
   "execution_count": null,
   "metadata": {
    "collapsed": false,
    "ExecuteTime": {
     "start_time": "2024-03-10T14:32:34.831540200Z"
    }
   },
   "outputs": [],
   "source": [
    "class2_data_array = artificial_data_generator_tools.generate_normal_distributed_informative_features_for_one_class(\n",
    "    number_of_samples=number_of_samples_per_class,\n",
    "    number_of_normal_distributed_relevant_features=number_of_informative_features,\n",
    "    scale=1,\n",
    ")\n",
    "class2_data_array = artificial_data_generator_tools.build_class(class_features_list=[class2_data_array])\n",
    "\n",
    "# show plot\n",
    "artificial_data_generator_tools.plot_distribution_of_class_features_for_single_class(class2_data_array)"
   ]
  },
  {
   "cell_type": "markdown",
   "source": [
    "## 1.5 Show plot distribution of all classes\n",
    "Once both classes have been generated, their distributions can be superimposed and examined."
   ],
   "metadata": {
    "collapsed": false
   }
  },
  {
   "cell_type": "code",
   "execution_count": null,
   "metadata": {
    "collapsed": false,
    "ExecuteTime": {
     "start_time": "2024-03-10T14:32:34.833540800Z"
    }
   },
   "outputs": [],
   "source": [
    "artificial_data_generator_tools.plot_distributions_of_all_classes(\n",
    "    [log_normal_distributed_class1_data_array, class2_data_array]\n",
    ")"
   ]
  },
  {
   "cell_type": "markdown",
   "source": [
    "## Task 1.4 Interpret the plot\n",
    "**TODO** Interpret the plot...\n",
    "\n",
    "`YOUR ANSWER HERE`"
   ],
   "metadata": {
    "collapsed": false
   }
  },
  {
   "cell_type": "markdown",
   "source": [
    "## 1.6 Shift Class to enlarge effect size\n",
    "In the next step, the effect size is increased by shifting the class. The result is again visible in the plot. To see the effect, compare the plot with the one from Section 1.5."
   ],
   "metadata": {
    "collapsed": false
   }
  },
  {
   "cell_type": "code",
   "execution_count": null,
   "metadata": {
    "collapsed": false,
    "ExecuteTime": {
     "start_time": "2024-03-10T14:32:34.834542300Z"
    }
   },
   "outputs": [],
   "source": [
    "shifted_class1_data_array = artificial_data_generator_tools.shift_class_to_enlarge_effectsize(\n",
    "    log_normal_distributed_class1_data_array, effect_size=1\n",
    ")\n",
    "\n",
    "# show plot\n",
    "artificial_data_generator_tools.plot_distributions_of_all_classes([shifted_class1_data_array, class2_data_array])"
   ]
  },
  {
   "cell_type": "markdown",
   "source": [
    "## Task 1.5 Interpret the plot\n",
    "**TODO** Interpret the plot... valid data? data needed?\n",
    "\n",
    "`YOUR ANSWER HERE`"
   ],
   "metadata": {
    "collapsed": false
   }
  },
  {
   "cell_type": "markdown",
   "metadata": {
    "collapsed": false
   },
   "source": [
    "## 1.7 Generate artificial classification data\n",
    "The individual parts of the data are combined to form the complete data set. The dataset consists of the following parts and in the following order:\n",
    "- class labels\n",
    "- informative features\n",
    "- pseudo class features\n",
    "- random features\n",
    "\n",
    "**TODO** maybe delete this part for task 1.6 (explain data set shape)"
   ]
  },
  {
   "cell_type": "code",
   "execution_count": null,
   "metadata": {
    "collapsed": false,
    "ExecuteTime": {
     "start_time": "2024-03-10T14:32:34.835541Z"
    }
   },
   "outputs": [],
   "source": [
    "artificial_data_df = artificial_data_generator_tools.generate_artificial_classification_data(\n",
    "    generated_classes_list=[shifted_class1_data_array, class2_data_array],\n",
    "    number_of_samples_per_class=number_of_samples_per_class,\n",
    "    number_of_random_features=number_of_random_features,\n",
    "    number_of_pseudo_class_features=number_of_pseudo_class_features,\n",
    "    number_of_pseudo_classes=2,\n",
    ")\n",
    "assert (\n",
    "    artificial_data_df.shape[1]\n",
    "    == number_of_informative_features + number_of_pseudo_class_features + number_of_random_features + 1\n",
    ")  # label column\n",
    "print(\"The complete data set has the following shape:\")\n",
    "print(f\"number of samples: {artificial_data_df.shape[0]}\")\n",
    "print(f\"number of features: {artificial_data_df.shape[1]}\")"
   ]
  },
  {
   "cell_type": "markdown",
   "source": [
    "## Task 1.6 Explain the data set shape\n",
    "**TODO** Explain the dataset shape. What do they contain and how are they composed?\n",
    "\n",
    "`YOUR ANSWER HERE`"
   ],
   "metadata": {
    "collapsed": false
   }
  },
  {
   "cell_type": "markdown",
   "source": [
    "## 1.8 Save CSV\n",
    "In the final step, the data can be downloaded in CSV format and are ready for further analysis and processing."
   ],
   "metadata": {
    "collapsed": false
   }
  },
  {
   "cell_type": "code",
   "execution_count": null,
   "metadata": {
    "collapsed": false,
    "ExecuteTime": {
     "start_time": "2024-03-10T14:32:34.836539800Z"
    }
   },
   "outputs": [],
   "source": [
    "artificial_data_df.to_csv(f\"../examples/data/data_i{number_of_informative_features}.csv\", index=False)"
   ]
  },
  {
   "cell_type": "markdown",
   "source": [
    "## Task 1.7 Purpose of synthetic data\n",
    "**TODO** What is the purpose of synthetic data? How can the generated data be used/useful?\n",
    "\n",
    "`YOUR ANSWER HERE`"
   ],
   "metadata": {
    "collapsed": false
   }
  }
 ],
 "metadata": {
  "colab": {
   "provenance": []
  },
  "kernelspec": {
   "display_name": "Python 3 (ipykernel)",
   "language": "python",
   "name": "python3"
  },
  "language_info": {
   "codemirror_mode": {
    "name": "ipython",
    "version": 3
   },
   "file_extension": ".py",
   "mimetype": "text/x-python",
   "name": "python",
   "nbconvert_exporter": "python",
   "pygments_lexer": "ipython3",
   "version": "3.10.6"
  }
 },
 "nbformat": 4,
 "nbformat_minor": 4
}
