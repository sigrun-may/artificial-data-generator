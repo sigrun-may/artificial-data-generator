{
 "nbformat": 4,
 "nbformat_minor": 0,
 "metadata": {
  "colab": {
   "provenance": []
  },
  "kernelspec": {
   "name": "python3",
   "language": "python",
   "display_name": "Python 3 (ipykernel)"
  },
  "language_info": {
   "name": "python"
  }
 },
 "cells": [
  {
   "cell_type": "markdown",
   "source": [
    "\n",
    "\n",
    "```\n",
    "\n",
    "    Generate artificial classification data.\n",
    "\n",
    "\n",
    "```\n",
    "\n"
   ],
   "metadata": {
    "id": "YfjhvMgwsvBb"
   }
  },
  {
   "cell_type": "code",
   "source": [
    "number_of_samples_per_class = 15\n",
    "number_of_relevant_features = 30 # TODO assert complete number of features?\n",
    "number_of_pseudo_class_features = 10\n",
    "number_of_random_features = 200"
   ],
   "metadata": {
    "id": "H8QF6ONY0hnu",
    "ExecuteTime": {
     "end_time": "2023-12-06T14:26:49.375792174Z",
     "start_time": "2023-12-06T14:26:49.037168299Z"
    }
   },
   "execution_count": 2,
   "outputs": []
  },
  {
   "cell_type": "code",
   "source": [
    "import numpy as np\n",
    "from numpy import ndarray\n",
    "import pandas as pd\n",
    "from matplotlib import pyplot\n",
    "import seaborn as sns\n",
    "from statsmodels.stats import correlation_tools\n",
    "\n",
    "def generate_correlated_cluster(\n",
    "    number_of_features: int,\n",
    "    number_of_samples: int,\n",
    "    lower_bound: float,\n",
    "    upper_bound: float,\n",
    ") -> ndarray:\n",
    "    \"\"\"Generate a cluster of correlated features.\n",
    "    Args:\n",
    "        number_of_features: Number of columns of generated data.\n",
    "        number_of_samples: Number of rows of generated data.\n",
    "        lower_bound: Lower bound of the generated correlations.\n",
    "        upper_bound: Upper bound of the generated correlations.\n",
    "    Returns:\n",
    "        Numpy array of the given shape with correlating features in the given range.\n",
    "    \"\"\"\n",
    "    rng = np.random.default_rng()\n",
    "\n",
    "    # generate random matrix to constrain a range of values\n",
    "    # and specify a starting point\n",
    "    random_matrix = np.random.uniform(\n",
    "        low=lower_bound,\n",
    "        high=upper_bound,\n",
    "        size=(number_of_features, number_of_features),\n",
    "    )\n",
    "\n",
    "    print(\"generation of correlation matrix ...\")\n",
    "    # first iteration generating correlations to\n",
    "    # improve the fit of the covariance matrix\n",
    "    correlation_matrix = correlation_tools.corr_nearest(corr=random_matrix, threshold=1e-15, n_fact=10000)\n",
    "\n",
    "    # change values on the diagonal to 1 to\n",
    "    # improve the fit of the covariance matrix\n",
    "    for i in range(0, correlation_matrix.shape[0]):\n",
    "        correlation_matrix[i, i] = 1\n",
    "\n",
    "    print(\"generation of covariant matrix ...\")\n",
    "    # generate the nearest positive semi-definite covariance matrix\n",
    "    covariance_matrix = correlation_tools.cov_nearest(\n",
    "        correlation_matrix,\n",
    "        method=\"nearest\",\n",
    "        threshold=1e-15,\n",
    "        n_fact=10000,\n",
    "        return_all=False,\n",
    "    )\n",
    "    print(\"generation of covariant matrix finished\")\n",
    "\n",
    "    # generate correlated cluster\n",
    "    covariant_cluster = rng.multivariate_normal(\n",
    "        mean=np.zeros(number_of_features),\n",
    "        cov=covariance_matrix,\n",
    "        size=number_of_samples,\n",
    "        check_valid=\"raise\",\n",
    "        method=\"eigh\",\n",
    "    )\n",
    "    print(\"generation of correlated cluster finished\")\n",
    "\n",
    "    sns.set_theme(style=\"white\")\n",
    "    data_df = pd.DataFrame(covariant_cluster)\n",
    "    corr = data_df.corr(method=\"spearman\")\n",
    "    sns.heatmap(corr, annot=True, cmap=\"Blues\", fmt=\".2g\")\n",
    "    pyplot.show()\n",
    "\n",
    "    return covariant_cluster"
   ],
   "metadata": {
    "id": "69xxeZmJt4bV",
    "ExecuteTime": {
     "end_time": "2023-12-06T14:26:49.667149185Z",
     "start_time": "2023-12-06T14:26:49.051780916Z"
    }
   },
   "execution_count": 3,
   "outputs": []
  },
  {
   "cell_type": "code",
   "source": [
    "number_of_features_cluster_1 = 5\n",
    "cluster1 = generate_correlated_cluster(number_of_features=number_of_features_cluster_1, number_of_samples=number_of_samples_per_class, lower_bound=0.7, upper_bound=1.0)"
   ],
   "metadata": {
    "colab": {
     "base_uri": "https://localhost:8080/",
     "height": 579
    },
    "id": "MXljGUusuFMs",
    "outputId": "962f5f5c-5f16-474e-879a-d4d6008fe4f7",
    "ExecuteTime": {
     "end_time": "2023-12-06T14:26:52.145503857Z",
     "start_time": "2023-12-06T14:26:49.121283739Z"
    }
   },
   "execution_count": 4,
   "outputs": [
    {
     "name": "stdout",
     "output_type": "stream",
     "text": [
      "generation of correlation matrix ...\n"
     ]
    },
    {
     "name": "stderr",
     "output_type": "stream",
     "text": [
      "/home/sigrun/miniconda3/envs/cv_pruner_dev2/lib/python3.11/site-packages/statsmodels/stats/correlation_tools.py:90: IterationLimitWarning: \n",
      "Maximum iteration reached.\n",
      "\n",
      "  warnings.warn(iteration_limit_doc, IterationLimitWarning)\n"
     ]
    },
    {
     "name": "stdout",
     "output_type": "stream",
     "text": [
      "generation of covariant matrix ...\n",
      "generation of covariant matrix finished\n",
      "generation of correlated cluster finished\n"
     ]
    },
    {
     "data": {
      "text/plain": "<Figure size 640x480 with 2 Axes>",
      "image/png": "[encoded data removed]"
     },
     "metadata": {},
     "output_type": "display_data"
    }
   ]
  },
  {
   "cell_type": "code",
   "source": [
    "number_of_features_cluster_2 = 10\n",
    "cluster2 = generate_correlated_cluster(number_of_features=number_of_features_cluster_2, number_of_samples=number_of_samples_per_class, lower_bound=0.9, upper_bound=1.0)"
   ],
   "metadata": {
    "colab": {
     "base_uri": "https://localhost:8080/",
     "height": 648
    },
    "id": "YUPTlFUswjY0",
    "outputId": "09ba14a2-34aa-46bc-89bd-2fa433c13400",
    "ExecuteTime": {
     "end_time": "2023-12-06T14:27:03.831186094Z",
     "start_time": "2023-12-06T14:26:52.129851375Z"
    }
   },
   "execution_count": 5,
   "outputs": [
    {
     "name": "stdout",
     "output_type": "stream",
     "text": [
      "generation of correlation matrix ...\n"
     ]
    },
    {
     "name": "stderr",
     "output_type": "stream",
     "text": [
      "/home/sigrun/miniconda3/envs/cv_pruner_dev2/lib/python3.11/site-packages/statsmodels/stats/correlation_tools.py:90: IterationLimitWarning: \n",
      "Maximum iteration reached.\n",
      "\n",
      "  warnings.warn(iteration_limit_doc, IterationLimitWarning)\n"
     ]
    },
    {
     "name": "stdout",
     "output_type": "stream",
     "text": [
      "generation of covariant matrix ...\n"
     ]
    },
    {
     "name": "stderr",
     "output_type": "stream",
     "text": [
      "/home/sigrun/miniconda3/envs/cv_pruner_dev2/lib/python3.11/site-packages/statsmodels/stats/correlation_tools.py:90: IterationLimitWarning: \n",
      "Maximum iteration reached.\n",
      "\n",
      "  warnings.warn(iteration_limit_doc, IterationLimitWarning)\n"
     ]
    },
    {
     "name": "stdout",
     "output_type": "stream",
     "text": [
      "generation of covariant matrix finished\n",
      "generation of correlated cluster finished\n"
     ]
    },
    {
     "data": {
      "text/plain": "<Figure size 640x480 with 2 Axes>",
      "image/png": "[encoded data removed]"
     },
     "metadata": {},
     "output_type": "display_data"
    }
   ]
  },
  {
   "cell_type": "code",
   "source": [
    "import math\n",
    "import warnings\n",
    "\n",
    "def generate_normal_distributed_class(scale, number_of_samples, number_of_normal_distributed_relevant_features: int) -> ndarray:\n",
    "\n",
    "    # generate normal distributed random data\n",
    "    if number_of_normal_distributed_relevant_features > 0:\n",
    "        rng = np.random.default_rng()\n",
    "        relevant_features = rng.normal(\n",
    "            loc=0,\n",
    "            scale=scale,\n",
    "            size=(number_of_samples, number_of_normal_distributed_relevant_features),\n",
    "        )\n",
    "\n",
    "        if not math.isclose(np.mean(relevant_features), 0, abs_tol=0.15):\n",
    "            warnings.warn(\n",
    "                f\"mean of generated data {str(np.mean(relevant_features))} differs from expected mean {str(0)} \"\n",
    "                f\"-> Try choosing a smaller scale for a small sample size or accept a deviating mean. \"\n",
    "                f\"The current scale is {str(scale)}.\"\n",
    "            )\n",
    "        class_features_list.append(relevant_features)\n",
    "\n",
    "    complete_class_np = np.concatenate(class_features_list, axis=1)\n",
    "    print(complete_class_np.shape)\n",
    "    assert complete_class_np.shape == (number_of_samples, number_of_relevant_features)\n",
    "    data_df = pd.DataFrame(complete_class_np.flatten(), columns=[\"class\"])\n",
    "    sns.histplot(data=data_df)\n",
    "    return complete_class_np"
   ],
   "metadata": {
    "id": "UmC4xumny7Bi",
    "ExecuteTime": {
     "end_time": "2023-12-06T14:27:03.915511455Z",
     "start_time": "2023-12-06T14:27:03.834412383Z"
    }
   },
   "execution_count": 6,
   "outputs": []
  },
  {
   "cell_type": "code",
   "source": [
    "number_of_normal_distributed_relevant_features = number_of_relevant_features - number_of_features_cluster_1 - number_of_features_cluster_2\n",
    "assert number_of_normal_distributed_relevant_features > 0\n",
    "class_features_list = []\n",
    "class_features_list.append(cluster1)\n",
    "class_features_list.append(cluster2)\n",
    "normal_distributed_class1_np = generate_normal_distributed_class(scale=1, number_of_samples=number_of_samples_per_class, number_of_normal_distributed_relevant_features=number_of_normal_distributed_relevant_features)"
   ],
   "metadata": {
    "colab": {
     "base_uri": "https://localhost:8080/",
     "height": 451
    },
    "id": "__6Hev_90WtF",
    "outputId": "dd414f21-8cb3-414e-d1b3-ca0e3c8af58e",
    "ExecuteTime": {
     "end_time": "2023-12-06T14:27:04.262839827Z",
     "start_time": "2023-12-06T14:27:03.847520767Z"
    }
   },
   "execution_count": 7,
   "outputs": [
    {
     "name": "stdout",
     "output_type": "stream",
     "text": [
      "(15, 30)\n"
     ]
    },
    {
     "name": "stderr",
     "output_type": "stream",
     "text": [
      "/home/sigrun/miniconda3/envs/cv_pruner_dev2/lib/python3.11/site-packages/seaborn/_oldcore.py:1498: FutureWarning: is_categorical_dtype is deprecated and will be removed in a future version. Use isinstance(dtype, CategoricalDtype) instead\n",
      "  if pd.api.types.is_categorical_dtype(vector):\n",
      "/home/sigrun/miniconda3/envs/cv_pruner_dev2/lib/python3.11/site-packages/seaborn/_oldcore.py:1498: FutureWarning: is_categorical_dtype is deprecated and will be removed in a future version. Use isinstance(dtype, CategoricalDtype) instead\n",
      "  if pd.api.types.is_categorical_dtype(vector):\n",
      "/home/sigrun/miniconda3/envs/cv_pruner_dev2/lib/python3.11/site-packages/seaborn/_oldcore.py:1498: FutureWarning: is_categorical_dtype is deprecated and will be removed in a future version. Use isinstance(dtype, CategoricalDtype) instead\n",
      "  if pd.api.types.is_categorical_dtype(vector):\n",
      "/home/sigrun/miniconda3/envs/cv_pruner_dev2/lib/python3.11/site-packages/seaborn/_oldcore.py:1498: FutureWarning: is_categorical_dtype is deprecated and will be removed in a future version. Use isinstance(dtype, CategoricalDtype) instead\n",
      "  if pd.api.types.is_categorical_dtype(vector):\n",
      "/home/sigrun/miniconda3/envs/cv_pruner_dev2/lib/python3.11/site-packages/seaborn/_oldcore.py:1498: FutureWarning: is_categorical_dtype is deprecated and will be removed in a future version. Use isinstance(dtype, CategoricalDtype) instead\n",
      "  if pd.api.types.is_categorical_dtype(vector):\n",
      "/home/sigrun/miniconda3/envs/cv_pruner_dev2/lib/python3.11/site-packages/seaborn/_oldcore.py:1119: FutureWarning: use_inf_as_na option is deprecated and will be removed in a future version. Convert inf values to NaN before operating instead.\n",
      "  with pd.option_context('mode.use_inf_as_na', True):\n"
     ]
    },
    {
     "data": {
      "text/plain": "<Figure size 640x480 with 1 Axes>",
      "image/png": "[encoded data removed]"
     },
     "metadata": {},
     "output_type": "display_data"
    }
   ]
  },
  {
   "cell_type": "code",
   "source": [
    "number_of_normal_distributed_relevant_features = number_of_relevant_features\n",
    "class_features_list = []\n",
    "normal_distributed_class2_np = generate_normal_distributed_class(scale=1, number_of_samples=number_of_samples_per_class, number_of_normal_distributed_relevant_features=number_of_normal_distributed_relevant_features)"
   ],
   "metadata": {
    "colab": {
     "base_uri": "https://localhost:8080/",
     "height": 451
    },
    "outputId": "12b05e0c-fb53-43bc-bf03-15bd3f54efee",
    "id": "wUkvv79Y7IHa",
    "ExecuteTime": {
     "end_time": "2023-12-06T14:27:04.742549150Z",
     "start_time": "2023-12-06T14:27:04.255214388Z"
    }
   },
   "execution_count": 8,
   "outputs": [
    {
     "name": "stdout",
     "output_type": "stream",
     "text": [
      "(15, 30)\n"
     ]
    },
    {
     "name": "stderr",
     "output_type": "stream",
     "text": [
      "/home/sigrun/miniconda3/envs/cv_pruner_dev2/lib/python3.11/site-packages/seaborn/_oldcore.py:1498: FutureWarning: is_categorical_dtype is deprecated and will be removed in a future version. Use isinstance(dtype, CategoricalDtype) instead\n",
      "  if pd.api.types.is_categorical_dtype(vector):\n",
      "/home/sigrun/miniconda3/envs/cv_pruner_dev2/lib/python3.11/site-packages/seaborn/_oldcore.py:1498: FutureWarning: is_categorical_dtype is deprecated and will be removed in a future version. Use isinstance(dtype, CategoricalDtype) instead\n",
      "  if pd.api.types.is_categorical_dtype(vector):\n",
      "/home/sigrun/miniconda3/envs/cv_pruner_dev2/lib/python3.11/site-packages/seaborn/_oldcore.py:1498: FutureWarning: is_categorical_dtype is deprecated and will be removed in a future version. Use isinstance(dtype, CategoricalDtype) instead\n",
      "  if pd.api.types.is_categorical_dtype(vector):\n",
      "/home/sigrun/miniconda3/envs/cv_pruner_dev2/lib/python3.11/site-packages/seaborn/_oldcore.py:1498: FutureWarning: is_categorical_dtype is deprecated and will be removed in a future version. Use isinstance(dtype, CategoricalDtype) instead\n",
      "  if pd.api.types.is_categorical_dtype(vector):\n",
      "/home/sigrun/miniconda3/envs/cv_pruner_dev2/lib/python3.11/site-packages/seaborn/_oldcore.py:1498: FutureWarning: is_categorical_dtype is deprecated and will be removed in a future version. Use isinstance(dtype, CategoricalDtype) instead\n",
      "  if pd.api.types.is_categorical_dtype(vector):\n",
      "/home/sigrun/miniconda3/envs/cv_pruner_dev2/lib/python3.11/site-packages/seaborn/_oldcore.py:1119: FutureWarning: use_inf_as_na option is deprecated and will be removed in a future version. Convert inf values to NaN before operating instead.\n",
      "  with pd.option_context('mode.use_inf_as_na', True):\n"
     ]
    },
    {
     "data": {
      "text/plain": "<Figure size 640x480 with 1 Axes>",
      "image/png": "[encoded data removed]"
     },
     "metadata": {},
     "output_type": "display_data"
    }
   ]
  },
  {
   "cell_type": "markdown",
   "source": [],
   "metadata": {
    "id": "WC2AY_pa9VaJ"
   }
  },
  {
   "cell_type": "code",
   "source": [
    "# enlarge effectize\n",
    "effectsize = 1\n",
    "shifted_class_np = normal_distributed_class2_np + effectsize"
   ],
   "metadata": {
    "id": "G0T47yXo-MIW",
    "ExecuteTime": {
     "end_time": "2023-12-06T14:27:04.743015015Z",
     "start_time": "2023-12-06T14:27:04.731624846Z"
    }
   },
   "execution_count": 9,
   "outputs": []
  },
  {
   "cell_type": "code",
   "source": [
    "class_plot_pd = pd.DataFrame(normal_distributed_class1_np.flatten(), columns=[\"class1\"])\n",
    "class_plot_pd[\"class2\"] = shifted_class_np.flatten()\n",
    "sns.histplot(data=class_plot_pd)\n"
   ],
   "metadata": {
    "colab": {
     "base_uri": "https://localhost:8080/",
     "height": 452
    },
    "id": "frfAIVY59tJ6",
    "outputId": "a39ad8e5-42e5-483f-e17b-1dafa2916f96",
    "ExecuteTime": {
     "end_time": "2023-12-06T14:27:05.573266986Z",
     "start_time": "2023-12-06T14:27:04.740779246Z"
    }
   },
   "execution_count": 10,
   "outputs": [
    {
     "name": "stderr",
     "output_type": "stream",
     "text": [
      "/home/sigrun/miniconda3/envs/cv_pruner_dev2/lib/python3.11/site-packages/seaborn/_oldcore.py:1498: FutureWarning: is_categorical_dtype is deprecated and will be removed in a future version. Use isinstance(dtype, CategoricalDtype) instead\n",
      "  if pd.api.types.is_categorical_dtype(vector):\n",
      "/home/sigrun/miniconda3/envs/cv_pruner_dev2/lib/python3.11/site-packages/seaborn/_oldcore.py:1498: FutureWarning: is_categorical_dtype is deprecated and will be removed in a future version. Use isinstance(dtype, CategoricalDtype) instead\n",
      "  if pd.api.types.is_categorical_dtype(vector):\n",
      "/home/sigrun/miniconda3/envs/cv_pruner_dev2/lib/python3.11/site-packages/seaborn/_oldcore.py:1498: FutureWarning: is_categorical_dtype is deprecated and will be removed in a future version. Use isinstance(dtype, CategoricalDtype) instead\n",
      "  if pd.api.types.is_categorical_dtype(vector):\n",
      "/home/sigrun/miniconda3/envs/cv_pruner_dev2/lib/python3.11/site-packages/seaborn/_oldcore.py:1498: FutureWarning: is_categorical_dtype is deprecated and will be removed in a future version. Use isinstance(dtype, CategoricalDtype) instead\n",
      "  if pd.api.types.is_categorical_dtype(vector):\n",
      "/home/sigrun/miniconda3/envs/cv_pruner_dev2/lib/python3.11/site-packages/seaborn/_oldcore.py:1498: FutureWarning: is_categorical_dtype is deprecated and will be removed in a future version. Use isinstance(dtype, CategoricalDtype) instead\n",
      "  if pd.api.types.is_categorical_dtype(vector):\n",
      "/home/sigrun/miniconda3/envs/cv_pruner_dev2/lib/python3.11/site-packages/seaborn/_oldcore.py:1498: FutureWarning: is_categorical_dtype is deprecated and will be removed in a future version. Use isinstance(dtype, CategoricalDtype) instead\n",
      "  if pd.api.types.is_categorical_dtype(vector):\n",
      "/home/sigrun/miniconda3/envs/cv_pruner_dev2/lib/python3.11/site-packages/seaborn/_oldcore.py:1119: FutureWarning: use_inf_as_na option is deprecated and will be removed in a future version. Convert inf values to NaN before operating instead.\n",
      "  with pd.option_context('mode.use_inf_as_na', True):\n"
     ]
    },
    {
     "data": {
      "text/plain": "<Axes: ylabel='Count'>"
     },
     "execution_count": 10,
     "metadata": {},
     "output_type": "execute_result"
    },
    {
     "data": {
      "text/plain": "<Figure size 640x480 with 1 Axes>",
      "image/png": "[encoded data removed]"
     },
     "metadata": {},
     "output_type": "display_data"
    }
   ]
  },
  {
   "cell_type": "markdown",
   "source": [],
   "metadata": {
    "id": "w1VDrmyTstbz"
   }
  },
  {
   "cell_type": "code",
   "source": [
    "# append label to classes\n",
    "label_class1 = 1\n",
    "label_np = np.full((number_of_samples_per_class, 1), fill_value=label_class1)\n",
    "labeled_data_class1_np = np.concatenate((label_np, normal_distributed_class1_np), axis=1)\n",
    "label_class2 = 2\n",
    "label_np = np.full((number_of_samples_per_class, 1), fill_value=label_class2)\n",
    "labeled_data_class2_np = np.concatenate((label_np, normal_distributed_class2_np), axis=1)"
   ],
   "metadata": {
    "id": "XenW1s6b-iH7",
    "ExecuteTime": {
     "end_time": "2023-12-06T14:27:05.685603711Z",
     "start_time": "2023-12-06T14:27:05.567642168Z"
    }
   },
   "execution_count": 11,
   "outputs": []
  },
  {
   "cell_type": "code",
   "source": [
    "# generate labeled relevant features\n",
    "relevant_labeled_features_np = np.concatenate([labeled_data_class1_np, labeled_data_class2_np], axis=0)\n",
    "assert relevant_labeled_features_np.shape[0] == number_of_samples_per_class * 2  # two classes\n",
    "assert relevant_labeled_features_np.shape[1] == number_of_relevant_features + 1  # the label"
   ],
   "metadata": {
    "id": "mGs09WIAWoqZ",
    "ExecuteTime": {
     "end_time": "2023-12-06T14:27:05.686019971Z",
     "start_time": "2023-12-06T14:27:05.582947283Z"
    }
   },
   "execution_count": 12,
   "outputs": []
  },
  {
   "cell_type": "code",
   "source": [
    "# generate randomly shuffled pseudo-class\n",
    "def build_pseudo_classes() -> ndarray:\n",
    "    \"\"\"Create pseudo-classes by shuffling artificial classes.\n",
    "    The total number of underlying classes equals the total number of artificial classes.\n",
    "    Returns:\n",
    "        Randomly shuffled pseudo-class: Numpy array of the given shape.\n",
    "    \"\"\"\n",
    "    rng = np.random.default_rng()\n",
    "    simulated_classes = []\n",
    "    number_of_pseudo_class_samples = 0\n",
    "\n",
    "    # generate normal distributed classes\n",
    "    for i in range(2):\n",
    "        normal_distributed_class = rng.normal(\n",
    "            size=(\n",
    "                number_of_samples_per_class,\n",
    "                number_of_pseudo_class_features,\n",
    "            ),\n",
    "            loc=4 * i,  # shift random data to generate different classes\n",
    "            scale=1,\n",
    "        )\n",
    "        simulated_classes.append(normal_distributed_class)\n",
    "    classes = np.concatenate(simulated_classes, axis=0)\n",
    "\n",
    "    # shuffle classes to finally create pseudo-class\n",
    "    np.random.shuffle(classes)\n",
    "    return classes"
   ],
   "metadata": {
    "id": "URyvrT-SX1bo",
    "ExecuteTime": {
     "end_time": "2023-12-06T14:27:05.686214851Z",
     "start_time": "2023-12-06T14:27:05.598415618Z"
    }
   },
   "execution_count": 13,
   "outputs": []
  },
  {
   "cell_type": "code",
   "source": [
    "# append pseudo classes\n",
    "pseudo_class_np = build_pseudo_classes()\n",
    "artificial_data_np = np.concatenate([relevant_labeled_features_np, pseudo_class_np], axis=1)\n",
    "\n",
    "# append random features\n",
    "random_features_np = np.random.normal(\n",
    "    loc=0.0,\n",
    "    scale=2,\n",
    "    size=(artificial_data_np.shape[0], number_of_random_features),\n",
    ")\n",
    "artificial_data_np = np.concatenate([artificial_data_np, random_features_np], axis=1)\n",
    "assert artificial_data_np.shape[0] == number_of_samples_per_class * 2\n",
    "assert artificial_data_np.shape[1] == number_of_relevant_features + number_of_pseudo_class_features + number_of_random_features + 1  # the label"
   ],
   "metadata": {
    "id": "ulruxwzPZLgj",
    "ExecuteTime": {
     "end_time": "2023-12-06T14:27:05.687231220Z",
     "start_time": "2023-12-06T14:27:05.609823626Z"
    }
   },
   "execution_count": 14,
   "outputs": []
  },
  {
   "cell_type": "code",
   "source": [
    "# generate pandas dataframe\n",
    "\n",
    "# generate label as first entry\n",
    "column_names = [\"label\"]\n",
    "\n",
    "# generate feature names\n",
    "for i in range(number_of_relevant_features):\n",
    "  column_names.append(f\"bm{i}\")\n",
    "for i in range(number_of_pseudo_class_features):\n",
    "  column_names.append(f\"pseudo{i}\")\n",
    "for i in range(number_of_random_features):\n",
    "  column_names.append(f\"random{i}\")\n",
    "\n",
    "data_df = pd.DataFrame(data=artificial_data_np, columns=column_names)\n",
    "print(data_df.shape)"
   ],
   "metadata": {
    "colab": {
     "base_uri": "https://localhost:8080/"
    },
    "id": "ZVJgainIaQDh",
    "outputId": "620d6a20-97ad-462b-9578-b0df897c05e9",
    "ExecuteTime": {
     "end_time": "2023-12-06T14:27:55.250093339Z",
     "start_time": "2023-12-06T14:27:55.233462143Z"
    }
   },
   "execution_count": 16,
   "outputs": [
    {
     "name": "stdout",
     "output_type": "stream",
     "text": [
      "(30, 241)\n"
     ]
    }
   ]
  }
 ]
}
