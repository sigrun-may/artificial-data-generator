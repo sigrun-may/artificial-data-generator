{
 "cells": [
  {
   "cell_type": "markdown",
   "metadata": {
    "collapsed": false
   },
   "source": [
    "Before you turn this problem in, make sure everything runs as expected. First, **restart the kernel** (in the menubar, select Kernel$\\rightarrow$Restart Kernel) and then **run all cells** (in the menubar, select Run$\\rightarrow$Run All Cells). Alternatively, you can use the **validate** button in the assignment list panel.\n",
    "\n",
    "Make sure you fill in any place that says `YOUR CODE HERE` or `YOUR ANSWER HERE`. When you insert your Code you can remove the line `raise NotImplementedError()`. Also put your name and collaborators below:"
   ]
  },
  {
   "cell_type": "code",
   "execution_count": 45,
   "outputs": [],
   "source": [
    "NAME = \"\"\n",
    "COLLABORATORS = \"\""
   ],
   "metadata": {
    "collapsed": false,
    "ExecuteTime": {
     "end_time": "2024-02-25T11:01:18.361232900Z",
     "start_time": "2024-02-25T11:01:18.303718500Z"
    }
   }
  },
  {
   "cell_type": "markdown",
   "source": [
    "Generate artificial classification data.\n",
    "    1. Generate two classes with normal distributed features.\n",
    "    2. Transform one class to log-normal distributed features.\n",
    "    3. Shift one class to enlarge effect size.\n",
    "    4. Generate random features.\n",
    "    5. Generate pseudo class features.\n",
    "    6. Generate pseudo classes.\n",
    "    7. Generate data frame.\n",
    "    8. Drop perfectly separated features.\n",
    "    9. Save data frame as csv.\n",
    "    \n",
    "The number of informative features is the number of features that are not random features and not pseudo class features.\n",
    "\n",
    "\n",
    "To know: \n",
    "Python (https://git.rz.tu-bs.de/ifn-public/ki4all/python-introduction)\n",
    "Machine Learning? (https://git.rz.tu-bs.de/ifn-public/ki4all/machine-learning-introduction) --> ?\n",
    "Classification (https://en.wikipedia.org/wiki/Statistical_classification)\n",
    "training data (matrix) (https://en.wikipedia.org/wiki/Training,_validation,_and_test_data_sets)\n",
    "labels (vector) (https://www.ibm.com/topics/data-labeling)\n",
    "Samples (rows) (https://en.wikipedia.org/wiki/Sampling_(statistics))\n",
    "Features (columns) (https://www.datarobot.com/wiki/feature/)\n",
    "Biomarkers (biological background) (https://en.wikipedia.org/wiki/Biomarker)\n",
    "Feature selection (https://machinelearningmastery.com/feature-selection-with-real-and-categorical-data/)\n",
    "Feature extraction (https://www.mathworks.com/discovery/feature-extraction.html) --> right?\n",
    "Feature engineering (https://www.techtarget.com/searchdatamanagement/definition/feature-engineering) (difficult to find)\n",
    "Feature importance (https://builtin.com/data-science/feature-importance)\n",
    "Statistical distributions (https://en.wikipedia.org/wiki/Probability_distribution) \n",
    "Normal distribution (https://en.wikipedia.org/wiki/Normal_distribution) \n",
    "Log-normal distribution (https://en.wikipedia.org/wiki/Log-normal_distribution)\n",
    "Effect size (https://loonylabs.org/2021/03/01/effect-size-in-statistics/ --> Bild)\n",
    "Application areas of artificial data\n",
    "Clustering/ Cluster\n",
    "CSV (https://en.wikipedia.org/wiki/Comma-separated_values)"
   ],
   "metadata": {
    "collapsed": false
   }
  },
  {
   "cell_type": "markdown",
   "source": [
    "\n",
    "Informative features:\n",
    "Informative features are the features that are relevant for the classification. They are the features that are used to distinguish between the classes. The number of informative features is the number of features that are not random features and not pseudo class features.\n",
    "\n",
    "\n",
    "Pseudo-classes:\n",
    "\n",
    "One option for an element of the generated data set is a pseudo-class. For example, this could be a patient's height or gender, which are not related to a specific disease.\n",
    "\n",
    "The generated pseudo-class contains the same number of classes with identical distributions as the artificial biomarkers. But after the generation of the individual classes, all samples (rows) are randomly shuffled. Finally, combining the shuffled data with the original, unshuffled class labels, the pseudo-class no longer has a valid association with any class label. Consequently, no element of the pseudo-class should be recognized as relevant by a feature selection algorithm.\n",
    "\n",
    "Random features:\n",
    "\n",
    "Random features are features that are not relevant for the classification. They are used to test feature selection algorithms and other methods for high dimensional data with few samples.\n",
    "\n",
    "Default values for high dimensional data with few samples (short fat data):\n",
    "\n",
    "The number of features is much larger than the number of samples. This is a common problem in bioinformatics and other fields. In this case, the number of features is much larger than the number of samples. This can lead to overfitting and other problems. The artificial data generator can be used to generate data with a large number of features and a small number of samples. This can be used to test feature selection algorithms and other methods for high dimensional data with few samples.\n"
   ],
   "metadata": {
    "collapsed": false
   }
  },
  {
   "cell_type": "markdown",
   "source": [
    "## Default Values"
   ],
   "metadata": {
    "collapsed": false
   }
  },
  {
   "cell_type": "code",
   "execution_count": 46,
   "metadata": {
    "id": "H8QF6ONY0hnu",
    "ExecuteTime": {
     "end_time": "2024-02-25T11:01:18.404232300Z",
     "start_time": "2024-02-25T11:01:18.316719700Z"
    }
   },
   "outputs": [],
   "source": [
    "number_of_samples_per_class = 15\n",
    "number_of_informative_features = 30  # TODO assert complete number of features?\n",
    "number_of_pseudo_class_features = 10\n",
    "number_of_random_features = 10000"
   ]
  },
  {
   "cell_type": "code",
   "execution_count": 47,
   "metadata": {
    "collapsed": false,
    "ExecuteTime": {
     "end_time": "2024-02-25T11:01:18.407232600Z",
     "start_time": "2024-02-25T11:01:18.333235700Z"
    }
   },
   "outputs": [],
   "source": [
    "import artificial_data_generator_tools\n",
    "import warnings\n",
    "from statsmodels.tools.sm_exceptions import IterationLimitWarning\n",
    "\n",
    "warnings.filterwarnings(\"ignore\", category=IterationLimitWarning)"
   ]
  },
  {
   "cell_type": "markdown",
   "metadata": {
    "collapsed": false
   },
   "source": [
    "## Generate complete class 1"
   ]
  },
  {
   "cell_type": "code",
   "execution_count": 48,
   "metadata": {
    "collapsed": false,
    "ExecuteTime": {
     "end_time": "2024-02-25T11:01:18.410231900Z",
     "start_time": "2024-02-25T11:01:18.350234900Z"
    }
   },
   "outputs": [],
   "source": [
    "class1_data_array = artificial_data_generator_tools.generate_normal_distributed_informative_features_for_one_class(\n",
    "    number_of_samples=number_of_samples_per_class,\n",
    "    number_of_normal_distributed_relevant_features=number_of_informative_features,\n",
    "    scale=1,\n",
    ")\n",
    "class1_data_array = artificial_data_generator_tools.build_class(class_features_list=[class1_data_array])"
   ]
  },
  {
   "cell_type": "markdown",
   "metadata": {
    "collapsed": false
   },
   "source": [
    "## Show plot class 1  "
   ]
  },
  {
   "cell_type": "code",
   "execution_count": 49,
   "metadata": {
    "collapsed": false,
    "ExecuteTime": {
     "end_time": "2024-02-25T11:01:18.490236300Z",
     "start_time": "2024-02-25T11:01:18.366233700Z"
    }
   },
   "outputs": [
    {
     "data": {
      "text/plain": "<Figure size 640x480 with 1 Axes>",
      "image/png": "[encoded data removed]"
     },
     "metadata": {},
     "output_type": "display_data"
    }
   ],
   "source": [
    "artificial_data_generator_tools.plot_distribution_of_class_features_for_single_class(class1_data_array)"
   ]
  },
  {
   "cell_type": "markdown",
   "metadata": {
    "collapsed": false
   },
   "source": [
    "## Transform class 1 to log-normal distributed features"
   ]
  },
  {
   "cell_type": "code",
   "execution_count": 50,
   "metadata": {
    "collapsed": false,
    "ExecuteTime": {
     "end_time": "2024-02-25T11:01:18.540471300Z",
     "start_time": "2024-02-25T11:01:18.493234400Z"
    }
   },
   "outputs": [],
   "source": [
    "log_normal_distributed_class1_data_array = (\n",
    "    artificial_data_generator_tools.transform_normal_distributed_class_features_to_lognormal_distribution(\n",
    "        class_features_data_array=class1_data_array\n",
    "    )\n",
    ")\n",
    "assert log_normal_distributed_class1_data_array.shape[1] == number_of_informative_features"
   ]
  },
  {
   "cell_type": "markdown",
   "source": [
    "## Show plot class 1 log-normal distributed"
   ],
   "metadata": {
    "collapsed": false
   }
  },
  {
   "cell_type": "code",
   "execution_count": 51,
   "metadata": {
    "collapsed": false,
    "ExecuteTime": {
     "end_time": "2024-02-25T11:01:18.651474500Z",
     "start_time": "2024-02-25T11:01:18.507475700Z"
    }
   },
   "outputs": [
    {
     "data": {
      "text/plain": "<Figure size 640x480 with 1 Axes>",
      "image/png": "[encoded data removed]"
     },
     "metadata": {},
     "output_type": "display_data"
    }
   ],
   "source": [
    "artificial_data_generator_tools.plot_distribution_of_class_features_for_single_class(\n",
    "    log_normal_distributed_class1_data_array,\n",
    ")"
   ]
  },
  {
   "cell_type": "markdown",
   "metadata": {
    "collapsed": false
   },
   "source": [
    "## Generate complete class 2"
   ]
  },
  {
   "cell_type": "code",
   "execution_count": 52,
   "metadata": {
    "collapsed": false,
    "ExecuteTime": {
     "end_time": "2024-02-25T11:01:18.699491100Z",
     "start_time": "2024-02-25T11:01:18.651474500Z"
    }
   },
   "outputs": [],
   "source": [
    "class2_data_array = artificial_data_generator_tools.generate_normal_distributed_informative_features_for_one_class(\n",
    "    number_of_samples=number_of_samples_per_class,\n",
    "    number_of_normal_distributed_relevant_features=number_of_informative_features,\n",
    "    scale=1,\n",
    ")\n",
    "class2_data_array = artificial_data_generator_tools.build_class(class_features_list=[class2_data_array])"
   ]
  },
  {
   "cell_type": "markdown",
   "metadata": {
    "collapsed": false
   },
   "source": [
    "## Show plot class 2"
   ]
  },
  {
   "cell_type": "code",
   "execution_count": 53,
   "metadata": {
    "collapsed": false,
    "ExecuteTime": {
     "end_time": "2024-02-25T11:01:18.795508500Z",
     "start_time": "2024-02-25T11:01:18.666491900Z"
    }
   },
   "outputs": [
    {
     "data": {
      "text/plain": "<Figure size 640x480 with 1 Axes>",
      "image/png": "[encoded data removed]"
     },
     "metadata": {},
     "output_type": "display_data"
    }
   ],
   "source": [
    "artificial_data_generator_tools.plot_distribution_of_class_features_for_single_class(class2_data_array)"
   ]
  },
  {
   "cell_type": "markdown",
   "source": [
    "## Show Plot Distribution"
   ],
   "metadata": {
    "collapsed": false
   }
  },
  {
   "cell_type": "code",
   "execution_count": 54,
   "metadata": {
    "collapsed": false,
    "ExecuteTime": {
     "end_time": "2024-02-25T11:01:19.111142800Z",
     "start_time": "2024-02-25T11:01:18.796507400Z"
    }
   },
   "outputs": [
    {
     "data": {
      "text/plain": "<Figure size 640x480 with 1 Axes>",
      "image/png": "[encoded data removed]"
     },
     "metadata": {},
     "output_type": "display_data"
    }
   ],
   "source": [
    "artificial_data_generator_tools.plot_distributions_of_all_classes(\n",
    "    [log_normal_distributed_class1_data_array, class2_data_array]\n",
    ")"
   ]
  },
  {
   "cell_type": "markdown",
   "source": [
    "## Shift Class to enlarge effectsize"
   ],
   "metadata": {
    "collapsed": false
   }
  },
  {
   "cell_type": "code",
   "execution_count": 55,
   "metadata": {
    "collapsed": false,
    "ExecuteTime": {
     "end_time": "2024-02-25T11:01:19.158717300Z",
     "start_time": "2024-02-25T11:01:19.113141600Z"
    }
   },
   "outputs": [],
   "source": [
    "shifted_class1_data_array = artificial_data_generator_tools.shift_class_to_enlarge_effectsize(\n",
    "    log_normal_distributed_class1_data_array, effect_size=5\n",
    ")"
   ]
  },
  {
   "cell_type": "markdown",
   "metadata": {
    "collapsed": false
   },
   "source": [
    "## Show resulting plot"
   ]
  },
  {
   "cell_type": "code",
   "execution_count": 56,
   "metadata": {
    "collapsed": false,
    "ExecuteTime": {
     "end_time": "2024-02-25T11:01:19.284425500Z",
     "start_time": "2024-02-25T11:01:19.127718600Z"
    }
   },
   "outputs": [
    {
     "data": {
      "text/plain": "<Figure size 640x480 with 1 Axes>",
      "image/png": "[encoded data removed]"
     },
     "metadata": {},
     "output_type": "display_data"
    }
   ],
   "source": [
    "artificial_data_generator_tools.plot_distributions_of_all_classes([shifted_class1_data_array, class2_data_array])"
   ]
  },
  {
   "cell_type": "markdown",
   "metadata": {
    "collapsed": false
   },
   "source": [
    "The individual parts of the data are combined to form the complete data set. The data set consists of the following parts and the following order:\n",
    "- class labels\n",
    "- informative features\n",
    "- pseudo class features\n",
    "- random features"
   ]
  },
  {
   "cell_type": "code",
   "execution_count": 57,
   "metadata": {
    "collapsed": false,
    "ExecuteTime": {
     "end_time": "2024-02-25T11:01:19.336857100Z",
     "start_time": "2024-02-25T11:01:19.287427600Z"
    }
   },
   "outputs": [
    {
     "name": "stdout",
     "output_type": "stream",
     "text": [
      "The complete data set has the following shape:\n",
      "number of samples: 30\n",
      "number of features: 10041\n"
     ]
    }
   ],
   "source": [
    "artificial_data_df = artificial_data_generator_tools.generate_artificial_classification_data(\n",
    "    generated_classes_list=[shifted_class1_data_array, class2_data_array],\n",
    "    number_of_samples_per_class=number_of_samples_per_class,\n",
    "    number_of_random_features=number_of_random_features,\n",
    "    number_of_pseudo_class_features=number_of_pseudo_class_features,\n",
    "    number_of_pseudo_classes=2,\n",
    ")\n",
    "assert (\n",
    "    artificial_data_df.shape[1]\n",
    "    == number_of_informative_features + number_of_pseudo_class_features + number_of_random_features + 1\n",
    ")  # label column\n",
    "print(\"The complete data set has the following shape:\")\n",
    "print(f\"number of samples: {artificial_data_df.shape[0]}\")\n",
    "print(f\"number of features: {artificial_data_df.shape[1]}\")"
   ]
  },
  {
   "cell_type": "markdown",
   "source": [
    "Perfectly separated features are features which do not overlap at any point. This means that the minimum value of one feature is larger than the maximum value of the other feature or vice versa. This case is not realistic for the discovery of new biomarkers. Therefore, these features are removed from the data set."
   ],
   "metadata": {
    "collapsed": false
   }
  },
  {
   "cell_type": "code",
   "execution_count": 58,
   "metadata": {
    "collapsed": false,
    "ExecuteTime": {
     "end_time": "2024-02-25T11:01:19.336857100Z",
     "start_time": "2024-02-25T11:01:19.300861300Z"
    }
   },
   "outputs": [
    {
     "name": "stdout",
     "output_type": "stream",
     "text": [
      "The complete data set without perfectly separated features has the following shape:\n",
      "number of samples: 30\n",
      "number of features: 10041\n"
     ]
    }
   ],
   "source": [
    "indices_of_perfectly_separated_features = artificial_data_generator_tools.find_perfectly_separated_features(\n",
    "    [shifted_class1_data_array, class2_data_array]\n",
    ")\n",
    "separated_artificial_data_df = artificial_data_generator_tools.drop_perfectly_separated_features(\n",
    "    list_of_perfectly_separated_features=indices_of_perfectly_separated_features, data_df=artificial_data_df\n",
    ")\n",
    "# check if first column is class label\n",
    "assert separated_artificial_data_df.columns[0] == \"label\"\n",
    "\n",
    "print(\"The complete data set without perfectly separated features has the following shape:\")\n",
    "print(f\"number of samples: {artificial_data_df.shape[0]}\")\n",
    "print(f\"number of features: {artificial_data_df.shape[1]}\")"
   ]
  },
  {
   "cell_type": "markdown",
   "source": [
    "## Save CSV"
   ],
   "metadata": {
    "collapsed": false
   }
  },
  {
   "cell_type": "code",
   "execution_count": 60,
   "metadata": {
    "collapsed": false,
    "ExecuteTime": {
     "end_time": "2024-02-25T11:01:29.387064100Z",
     "start_time": "2024-02-25T11:01:29.092234800Z"
    }
   },
   "outputs": [],
   "source": [
    "# number of informative features\n",
    "number_of_informative_separated_features = number_of_informative_features - len(indices_of_perfectly_separated_features)\n",
    "separated_artificial_data_df.to_csv(\n",
    "    f\"../examples/data/separated_i{number_of_informative_separated_features}.csv\", index=False\n",
    ")"
   ]
  }
 ],
 "metadata": {
  "colab": {
   "provenance": []
  },
  "kernelspec": {
   "display_name": "Python 3 (ipykernel)",
   "language": "python",
   "name": "python3"
  },
  "language_info": {
   "codemirror_mode": {
    "name": "ipython",
    "version": 3
   },
   "file_extension": ".py",
   "mimetype": "text/x-python",
   "name": "python",
   "nbconvert_exporter": "python",
   "pygments_lexer": "ipython3",
   "version": "3.10.6"
  }
 },
 "nbformat": 4,
 "nbformat_minor": 4
}
